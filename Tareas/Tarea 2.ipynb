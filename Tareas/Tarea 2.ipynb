{
 "cells": [
  {
   "cell_type": "markdown",
   "metadata": {},
   "source": [
    "# Problemas ensamble Microanónico\n",
    "\n",
    "1) En un cristal monoatómico, cada átomo puede ocupar una posición regular de la estructura cristalina, o bien una posición intersticial. La energía de un átomo en una posición intersticial es mayor que la de un átomo en su posición de equilibro en la estructura cristalina por una cantidad $\\epsilon$. Supon que el número de posiciones intersticiales es igual al número de posiciónes dentro de la estructura; esto es, igual al número de átomos. Calcula la entropía del cristal en el estado donde $n$ átomos de los $N$ están en posiciones intersticiales. ¿Cuál es la temperatura del átomo si el cristal está en equilibrio térmico? \n",
    "\n",
    "2) Calcula la entropía de un sólido paramagnético, con $N$ átomos, de los cuales $n$ apuntan paralelamente al campo. A partir de ahí obten la densidad de espines antiparalelos, como función de la temperatura. Discute con este resultado, porqué esto predice temperaturas negativas y cómo se podrían alcanzar de forma experimental. \n",
    "\n",
    "3) Modelo unidimensional de Hule: Una cadena consiste de $n$ eslabones, cada uno de longitud $a$. Todos los eslabones se encuentran a lo largo del eje x, pero pueden doblarse hacia atrás sobre si mismos, es decir, si la posición del eslabón $i$ es $n_i a$, la posición del eslabón $i+1$ será $(n_i\\pm 1)a$, dependiendo de la orientación del eslabón $i+1$ (doblado o desdoblado). Los extremos de la cadena están separados una distancia $L$ y el sistema está aislado.\n",
    "- Determina la entropía y la energía libre del sistema como función de $L$. \n",
    "- ¿Cuál es la separación más probable? \n",
    "- ¿Cuál es el radio de giro ($\\sqrt{\\langle L^2 \\rangle}$) como función de la temperatura?\n",
    "- Considera que la cadena tiene un extremo fijo y se aplica una fuerza constante $f$ sobre el extremo libre. Determina $\\big(\\frac{\\partial \\langle L \\rangle}{\\partial f}\\big)_T$ como función de la temperatura para $f$ pequeña. \n",
    "- Discute el límite $L<<na$ y su relación con la ley de Hooke. \n",
    "\n",
    "\n",
    "# Problemas ensamble Canónico\n",
    "\n",
    "4) Sólido cristalino de Einstein: Considere un sólido formado por átomos en una red cristalina cúbica, por ejemplo, de sodio o plata. Los átomos están fijos en los vértices de la red, y atados unos con otros mediante potenciales que se pueden aproximar bien mediante resortes que representan los enlaces a sus vértices. El modelo más simple es suponer que cada átomo oscila de forma independiente en cada una de las direcciones (ejes) a una misma frecuencia $\\nu$. Así, el modelo está formado por $3N$ osciladores independientes. La energía de cada resorte está dada por: $\\epsilon_n =(n+1/2)h\\nu$. Supon que cada nivel energético es no degenerado.  \n",
    "- ¿Cuál es la energía promedio del sistema?\n",
    "- ¿Cuál sería su capacidad calorífica a volumen constante? \n",
    "    \n",
    "5) Muestra que los mismos resultados se pueden obtener si se tienen osciladores 3 dimensionales, de energías $\\epsilon_n= (n+3/2)h\\nu$ y con degeneraciones $\\omega_n = \\frac{1}{2} (n+1)^2$.\n",
    "\n",
    "6) Un sistema está formado por N partículas independientes, cada una con posibles energías $\\epsilon_1$ y $\\epsilon_2$ $\\epsilon_1 < \\epsilon_2$ \n",
    "- Calcula la energía promedio del sistema y discute los límites de altas y bajas energías. \n",
    "- Supón que $\\epsilon_1 = \\epsilon_2(V)$ con $V$ el volumen del sistema. Calcula la entropía, la energía libre y la capacidad calorífica a volumen constante. Discute los límites de alta y baja energía. \n",
    "    \n",
    "7) Demuestra que ún Sólido de Einstein cumple con: $S = 3Nk\\frac{\\partial (T log(1-exp(-h\\nu /KT)) }{\\partial T}$ y discute los límites de altas y bajas frecuencias. \n",
    "\n",
    "8) La energía total de un oscilador clásico es: $\\epsilon = \\frac{p^2}{2m} + \\frac{1}{2}K x^2$, donde $p$ es el momento, $m$ la masa del oscilador, $K$ la constante del resorte y $x$ el desplazamiento con respecto a la posición de equilibrio. \n",
    "- Calcula la función de partición clásica de 1 oscilador armónico. \n",
    "- Calcula las propiedades termodinámicas de 3N osciladores lineales independientes. \n",
    "- Compara los resultados con el sólido de Einstein. \n",
    "    \n",
    "9) Un gas clásico ideal relativista está formado por partículas cuyas energías son: $\\epsilon = \\sqrt{p^2 + m_0 c^2}$, donde $p$ es el momento lineal, $m_0$ la masa en reposo y $c$ es la velocidad de la luz. Calcula las funciones termodinámicas de este gas y compara con la ecuación del gas ideal. \n",
    "\n",
    "10) En el curso demostramos que en el límite termodinámico clásico ($\\lambda << d$ ) el gas de Fermi-Dirac (acomodando N objetos indistinguibles en M cajas, máximo un objeto por caja) tiene una función de partición igual a $\\frac{1}{N!} \\big(\\frac{V}{\\lambda^2}\\big)^N$. Demuestra que para el caso del gas de Bose-Einstein (acomodar N objetos indistinguibles en M cajas con número arbitrario de objetos por caja) también se obtiene esa función de partición en el límite termodinámico. \n",
    "\n",
    "11) En el caso ultrarelativístico (cerca de la velocidad de la luz), una partícula atrapada en una caja, tiene una energía:$\\epsilon = \\hslash c |\\vec{k}|$. Calcula la energía como función de la presión y el volumen. \n",
    "\n",
    "\n",
    "\n",
    "# Problemas de densidades de estados: \n",
    "\n",
    "12) Considera un gas diluido en contacto con un reservorio gigante a temperatura $T$. Sea $P(\\epsilon)d\\epsilon$ la probabilidad de que una molécula tenga energía entre $\\epsilon$ y $\\epsilon+d\\epsilon$. ¿Por qué es incorrecto escribir: $P(\\epsilon)d\\epsilon \\propto e^{-\\beta \\epsilon}$? \n",
    "\n"
   ]
  },
  {
   "cell_type": "code",
   "execution_count": null,
   "metadata": {
    "collapsed": true
   },
   "outputs": [],
   "source": []
  }
 ],
 "metadata": {
  "kernelspec": {
   "display_name": "Julia 0.4.5",
   "language": "julia",
   "name": "julia-0.4"
  },
  "language_info": {
   "file_extension": ".jl",
   "mimetype": "application/julia",
   "name": "julia",
   "version": "0.4.5"
  }
 },
 "nbformat": 4,
 "nbformat_minor": 0
}
