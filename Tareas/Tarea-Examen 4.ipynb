{
 "cells": [
  {
   "cell_type": "markdown",
   "metadata": {},
   "source": [
    "Instrucciones: Responde las 5 preguntas detalladamente. Si es necesario hacer hacer cálculos para demostrar tus afirmaciones, desarrolla estos de forma que cada paso sea claro. Todas las preguntas valen 2 puntos. "
   ]
  },
  {
   "cell_type": "markdown",
   "metadata": {},
   "source": [
    "1. 4. Qué sucede (con el movimiento Browniano) si a la ecuación de Langevin se le agrega una fuerza restitutiva, esto es: $M \\frac{d^2 x}{dt^2} + \\alpha \\frac{dx}{dt}+\\lambda x = X(t)$ con $\\alpha$, $\\lambda$ constantes positivas, $M$ la masa de la partícula, $x$ su posición, $X$ una función aleatoria y $t$ el tiempo. Resuelve haciendo $\\lambda =0$. \n",
    "2. **Transición de segundo orden:** Explica qué define una transición de segundo orden. Toma el caso ferromagnético como ejemplo y muestra (explica) por qué podemos decir que hay una transición de fase (de ser necesario, hagan cálculos para reforzar sus argumentos). \n",
    "3. **Universalidad de las transiciones de fase:** Escribe como se comportan las siguientes cantidades cerca de una transición de fase líquido-gas: \n",
    "    - Calor específico\n",
    "    - Magnetización\n",
    "    - Densidad del gas (líquido)\n",
    "    - La compresibilidad isotérmica\n",
    "    - La longitud de correlación. Para esto, define qué es la longitu de correlación. \n",
    "4. **Aplicación del teorema de Fluctuación-disipación:** Una de las formas del teorema de Fluctuación-disipación, es la siguiente: \n",
    "$\\frac{\\partial^2 log(Z)}{\\partial \\lambda_i \\partial \\lambda_j} = \\frac{\\partial A_i}{\\partial \\lambda_j}= \\langle (A_i-\\langle A_i \\rangle) (A_j-\\langle A_j \\rangle)\\rangle$. Donde $A$ es un operador (una medición). ¿Cómo puedes usar esto para demostrar que la suseptivilidad de spin es positiva en el modelo de Ising? (recuerda que la suseptivilidad es $\\frac{\\partial M}{\\partial B}$). Las fluctuaciones son $G_{ij} = \\langle A_i A_j\\rangle - \\langle A_i\\rangle \\langle A_j\\rangle $. \n",
    "5. **Ecuación de Schödinger y la ecuación de Fokker-Plank:** \n",
    "Para escribir adecuadamente la ecuación de Fokker-Plank, utiliza la ecuación de continuidad y una corriente definida como $j = \\frac{X(x)}{m\\gamma}\\rho(x,t) - D\\frac{\\partial \\rho}{\\partial x}$. Esto deduce una ecuación diferencial parcial que es la ecuación de Fokker-Planck en el espacio de configuraciones. Esta es: \n",
    "    $ \\frac{\\partial \\rho}{\\partial t} = -\\frac{\\partial}{\\partial x}[X(x)\\rho] +D \\frac{\\partial^2}{\\partial x^2} \\rho$. \n",
    "    - Usando la definición de potencial $X(x) = \\frac{-\\partial V}{\\partial x}$  demuestra que la ecuación de Fokker-Planck se vuelve:  $ \\frac{\\partial \\rho}{\\partial t} = -D\\frac{\\partial}{\\partial x}(\\rho \\frac{\\partial V}{\\partial x}+ \\frac{\\partial \\rho}{\\partial x})$. \n",
    "    - Define $\\Psi(x,t)$ con $\\rho(x,t) = exp(-1/2 V) \\Psi(x,t)$. Usa esta definición para re-escribir la ecuación de Fokker-Plank en términos de $\\Psi$.  \n",
    "    - Escribe la ecuación de schödinger en 1D. \n",
    "    - Haz el cambio de variable $t' = it$. \n",
    "    - Haciendo el potencial igual a $0$, identifica la ecuación de difusión y por lo tanto la constante de difusión. \n",
    "    - Re-escribe la ecuación de Schödinger utilizando la constante de difusión (y volviendo a poner la energía potencial). \n",
    "    ¿Identificas alguna relación entre la ecuación de Fokker-Planck (en el espacio de configuraciones, no el de momentos, como lo vió Ivonne) y la ecuación de Schödinger? ¿Qué puedes decir al respecto?\n",
    "    \n",
    "**Simulación** (Extra, no vale calificación, pero es bonita): \n",
    "\n",
    "Haz una simulación, utilizando la ecuación de Langenvin en su forma discretizada: \n",
    "\n",
    "$ x_i(t+\\epsilon) = x_i(t) - \\epsilon \\frac{\\partial V(x)}{\\partial x_i} + \\sqrt{2\\epsilon} b_i(t)$ \n",
    "\n",
    "donde $b_i(t) es un número aleatorio con distribución gaussiana. \n",
    "\n",
    "En esta simulación, pon 2 partículas que se atraen eléctricamente con el potencial de coulomb si la distancia es mayor que 1 y se repelen con un potencial que crece exponencialmente si la distancia es menor que 1. \n",
    " "
   ]
  }
 ],
 "metadata": {
  "kernelspec": {
   "display_name": "Julia 0.5.0",
   "language": "julia",
   "name": "julia-0.5"
  },
  "language_info": {
   "file_extension": ".jl",
   "mimetype": "application/julia",
   "name": "julia",
   "version": "0.5.0"
  }
 },
 "nbformat": 4,
 "nbformat_minor": 2
}
