{
 "cells": [
  {
   "cell_type": "markdown",
   "metadata": {},
   "source": [
    "# Tarea 3\n",
    "\n",
    "### Problema 1 (Ley de cuerpo negro al estilo cuchareo de Planck): \n",
    "Usa la ley de Rayleigh-Jeans ($U = kT$, válida en bajas frecuencias) y la de Wien ($\\hbar \\omega e^{\\beta \\hbar \\omega}$ valida para altas frecuencias), para derivar la ley de Planck de la radiación del cuerpo negro. Para esto sigue los siguientes pasos: \n",
    "\n",
    "1) Deriba Deriva la energía en ambas leyes, con respecto a $\\beta$. \n",
    "\n",
    "2) Expresa estas derviadas en términos de las mismas energías:\n",
    "\n",
    "3) Expresa la derivada de la energía como el promedio de las derivadas (interpolación en su forma más \"barata\"). \n",
    "\n",
    "4) Usa esta expresión para aproximar $\\frac{d \\beta}{dU}$ \n",
    "\n",
    "5) Integra esta expresión para obtener $\\beta$ en función de $U$. \n",
    "\n",
    "6) Despeja $U$. "
   ]
  },
  {
   "cell_type": "markdown",
   "metadata": {},
   "source": [
    "### Problema 2 (Radiación solar): \n",
    "Suponga que el sol emite radiación con las propiedades del cuerpo negro a 6000K. ¿Cuál es la potencia radiada por el sol, por ancho de banda de un megaciclo, a una longitud de onda de 2cm? (radio del sol $7\\times 10^{10} cm$ )"
   ]
  },
  {
   "cell_type": "markdown",
   "metadata": {},
   "source": [
    "### Problema 3 (Modelo de Debye): \n",
    "¿Cuál es la entropía del modelo de Debye?. Estudiar los límites de bajas y altas temperaturas. \n"
   ]
  },
  {
   "cell_type": "markdown",
   "metadata": {},
   "source": [
    "### Problema 4 (Ondas sobre un líquido):  \n",
    "La relación de disperción para las ondas en la superficie de un líquido es la siguiente: \n",
    "\n",
    "$ \\omega^2 = \\frac{\\sigma}{2 \\pi\\rho \\lambda^3} $ \n",
    "\n",
    "Donde $\\sigma$ es la superficie del líquido y $\\rho$ su densidad. \n",
    "\n",
    "Recuerda que $k = \\frac{2\\pi}{\\lambda}$. \n",
    "\n",
    "1. Obten la densidad de frecuencias para estas ondas. Recuerda que estas se mueven sobre una superficie, es decir, se trata de una densidad 2-dimensional. \n",
    "2. Supon que estas ondas siguen la estadistica de Bose (lo cual se puede demostrar de forma muy parecida a como se mostró en clase que las ondas vibracionales de sistemas de resortes \"cuánticos\" siguen la estadística de Bose). Usa esto para calcular la energía promedio (superficial) de un líquido a bajas temperaturas (respecto a su \"temperatura de Debye\"). Para esto, puedes usar que la energía de una onda en el estado excitado $n$ es $E = (\\frac{1}{2} + n) \\hbar \\omega$ (o sea, asumes que las ondas están cuantizadas, lo cual también es justificable)."
   ]
  },
  {
   "cell_type": "markdown",
   "metadata": {},
   "source": [
    "### Problema 5 (condensado de Bose en 2D) : \n",
    "Considera un sistema de N partículas de spin 0 constreñidas a moverse en un superficie de área $S$. \n",
    "1. Calcula la densidad de estados con energía entre $\\epsilon$ y $\\epsilon +d\\epsilon$. \n",
    "2. Expresa en términos de la densidad de partículas $N/S$ y del la longitud de onda térmica $\\lambda_T = h (2\\pi m k T)^{-1/2}$ la condición que fija el potencial químico, es decir, $N = N_0 + N_1 = \\frac{z}{1-z} + G(z,S,\\lambda)$, donde $z = exp(\\beta \\mu)$, $N_0$ el numero de particulas en el estado base, $N_1$ el resto de las particulas y $G$ una funcion que depende de la superficie, $z$ y la longitud de onda térmica. \n",
    "3. Despeja $\\frac{N_0}{N}$, como función de $N$ y $z$  y también como función de $G$ y $N$. \n",
    "4. Los dos posibles despejes de $\\frac{N_0}{N}$, definen 2 funciones de $z$ ($G$ depende de $z$. Demuestra una de estas funciones no está definida en el rango $z \\in [0,1]$.  \n",
    "5. Argumenta porque esto implica que no se forma un condensado en 2D. \n"
   ]
  },
  {
   "cell_type": "markdown",
   "metadata": {},
   "source": [
    "### Problema 6 (Ecuación de estado de un gas de Bose 3D):\n",
    "Obten la ecuación (aproximada) de estado de un gas de bose (con potencial químico diferente de 0) en 3D para una temperatura arriba de la crítica. Recuerda que G = PV. También puedes usar U= 3/2 PV. ¿Cómo es la presión cuando el gas de bose se condensa? "
   ]
  },
  {
   "cell_type": "markdown",
   "metadata": {},
   "source": [
    "### Problema 7 (Gas electrónico a temperatura 0): \n",
    "Demuestra que la energía cinética de un gas tridimensional de N electrones libres a temperatura 0K es:\n",
    "\n",
    "$U_0 = \\frac{3N}{5}\\epsilon_F$, \n",
    "\n",
    "donde  $\\epsilon_F$ es la energia de Fermi. "
   ]
  },
  {
   "cell_type": "markdown",
   "metadata": {},
   "source": [
    "### Problema 8 (estrella de neutrones): \n",
    "\n",
    "Una estrella de neutroes está formada por neutrones escencialmente (como su nombre lo indica). Los neutrones tiene espin 1/2. Su densidad $\\rho$ es aproximadamente 0.17 neutrones por $fm^3$ y su temperatura es del orden de $10^8K$. Modelemos la estrella como un gas de fermi de neutrones. \n",
    "\n",
    "1. Muestra que a $T = 0$ (o cerca), la presión es $2/3 \\epsilon$  ($\\epsilon$ es la densidad de energía $E/V$). \n",
    "2. Obtén del resultado anterior, la presión del gas a temperatura 0 y compáralo con la presión del mismo gas a temperatura $10^8K$ usando la aproximación clásica. \n",
    "3. Usa la energía gravitacional clásica para calcular el radio de equilibrio de la estrella de neutrones. Para esto asume la densidad de la estrella uniforme (debe quedar en términos de la constante gravitatoria, $\\hbar$, la masa del neutrón, y la masa de la estrella). "
   ]
  },
  {
   "cell_type": "code",
   "execution_count": null,
   "metadata": {
    "collapsed": true
   },
   "outputs": [],
   "source": []
  }
 ],
 "metadata": {
  "kernelspec": {
   "display_name": "Julia 0.5.1",
   "language": "julia",
   "name": "julia-0.5"
  },
  "language_info": {
   "file_extension": ".jl",
   "mimetype": "application/julia",
   "name": "julia",
   "version": "0.5.1"
  }
 },
 "nbformat": 4,
 "nbformat_minor": 1
}
