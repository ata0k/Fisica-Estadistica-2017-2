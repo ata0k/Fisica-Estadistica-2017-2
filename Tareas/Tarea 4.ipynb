{
 "cells": [
  {
   "cell_type": "markdown",
   "metadata": {},
   "source": [
    "# Tarea 4:\n",
    "\n",
    "1. Encuentra el punto crítico en la ecuación de Wan der Waals $\\left(p + \\frac{a'}{v^2}\\right)\\left(v-b'\\right) = kT$.  \n",
    "2. Demuestra que la forma más densa en la que se pueden acomodar discos duros en 2D de un mismo tamaño es un arreglo hexagonal. \n",
    "3. Para el gas de esferas duras, calcula los valores de $a'$ y $b'$ de la ecuación de Van der Waals. \n",
    "4. Qué sucede (con el movimiento Browniano) si a la ecuación de Langevin se le agrega una fuerza restitutiva, esto es: $M \\frac{d^2 x}{dt^2} + \\alpha \\frac{dx}{dt}+\\lambda x = X(t)$ con $\\alpha$, $\\lambda$ constantes positivas, $M$ la masa de la partícula, $x$ su posición, $X$ una función aleatoria y $t$ el tiempo. Resuelve haciendo $\\lambda =0$. \n",
    "\n"
   ]
  },
  {
   "cell_type": "code",
   "execution_count": null,
   "metadata": {
    "collapsed": true
   },
   "outputs": [],
   "source": []
  }
 ],
 "metadata": {
  "kernelspec": {
   "display_name": "Julia 0.5.0",
   "language": "julia",
   "name": "julia-0.5"
  },
  "language_info": {
   "file_extension": ".jl",
   "mimetype": "application/julia",
   "name": "julia",
   "version": "0.5.0"
  }
 },
 "nbformat": 4,
 "nbformat_minor": 2
}
