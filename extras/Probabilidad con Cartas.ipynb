{
 "cells": [
  {
   "cell_type": "markdown",
   "metadata": {},
   "source": [
    "¿Cuál es la probabilidad de que salga un As de diamantes después de que salga el primer As si se sacan de una por una las cartas de una baraja de 52 cartas? "
   ]
  },
  {
   "cell_type": "code",
   "execution_count": 1,
   "metadata": {
    "collapsed": false
   },
   "outputs": [
    {
     "data": {
      "text/plain": [
       "carta (generic function with 1 method)"
      ]
     },
     "execution_count": 1,
     "metadata": {},
     "output_type": "execute_result"
    }
   ],
   "source": [
    "baraja = [\"AsC\"; \"AsD\"; \"AsT\"; \"AsE\"; \"2C\"; \"2D\"; \"2T\"; \"2E\"; \"3C\"; \"3D\"; \"3T\"; \"3E\"; \"4C\"; \"4D\"; \"4T\"\n",
    "    ; \"4E\"; \"5C\"; \"5D\"; \"5T\"; \"5E\"; \"6C\"; \"6D\"; \"6T\"; \"6E\"; \"7C\"; \"7D\"; \"7T\"; \"7E\"; \"8C\"; \"8D\"; \"8T\"; \"8E\"; \"9C\"; \"9D\"; \"9T\"; \"9E\";\n",
    "\"10C\"; \"10D\"; \"10T\"; \"10E\"; \"JC\"; \"JD\"; \"JT\"; \"JE\"; \"QC\"; \"QD\"; \"QT\"; \"QE\"; \"RC\"; \"RD\"; \"RT\"; \"RE\"]\n",
    "function carta(A)\n",
    "    A2 = copy(A)\n",
    "    Carta = rand(A2)\n",
    "    i = findfirst(A2,Carta)\n",
    "    deleteat!(A2,i)\n",
    "    return Carta, A2\n",
    "end"
   ]
  },
  {
   "cell_type": "code",
   "execution_count": 2,
   "metadata": {
    "collapsed": false
   },
   "outputs": [
    {
     "data": {
      "text/plain": [
       "0.019165"
      ]
     },
     "execution_count": 2,
     "metadata": {},
     "output_type": "execute_result"
    }
   ],
   "source": [
    "contador = 0\n",
    "N = 1000000\n",
    "for i in 1:N\n",
    "    Cart, conjunto = carta(baraja)\n",
    "    while Cart != \"AsC\" && Cart != \"AsD\" && Cart != \"AsE\" && Cart != \"AsT\" \n",
    "        Cart, conjunto = carta(conjunto)\n",
    "    end\n",
    "    Cart2, conjunto = carta(conjunto)\n",
    "    if Cart2 == \"AsD\"\n",
    "        contador +=1\n",
    "    end\n",
    "end\n",
    "contador/N"
   ]
  },
  {
   "cell_type": "code",
   "execution_count": 3,
   "metadata": {
    "collapsed": false
   },
   "outputs": [
    {
     "data": {
      "text/plain": [
       "0.018958"
      ]
     },
     "execution_count": 3,
     "metadata": {},
     "output_type": "execute_result"
    }
   ],
   "source": [
    "contador = 0\n",
    "for i in 1:N\n",
    "    Cart, conjunto = carta(baraja)\n",
    "    while Cart != \"AsC\" && Cart != \"AsD\" && Cart != \"AsE\" && Cart != \"AsT\" \n",
    "        Cart, conjunto = carta(conjunto)\n",
    "    end\n",
    "    Cart2, conjunto = carta(conjunto)\n",
    "    if Cart2 == \"JC\"\n",
    "        contador +=1\n",
    "    end\n",
    "end\n",
    "contador/N"
   ]
  },
  {
   "cell_type": "code",
   "execution_count": 4,
   "metadata": {
    "collapsed": false
   },
   "outputs": [
    {
     "data": {
      "text/plain": [
       "0.077142"
      ]
     },
     "execution_count": 4,
     "metadata": {},
     "output_type": "execute_result"
    }
   ],
   "source": [
    "contador = 0\n",
    "for i in 1:N\n",
    "    Cart, conjunto = carta(baraja)\n",
    "    while Cart != \"AsC\" && Cart != \"AsD\" && Cart != \"AsE\" && Cart != \"AsT\" \n",
    "        Cart, conjunto = carta(conjunto)\n",
    "    end\n",
    "    Cart2, conjunto = carta(conjunto)\n",
    "    if Cart2 == \"JC\" || Cart2 == \"JE\" || Cart2 == \"JD\" || Cart2 == \"JT\" \n",
    "        contador +=1\n",
    "    end\n",
    "end\n",
    "contador/N"
   ]
  },
  {
   "cell_type": "code",
   "execution_count": 5,
   "metadata": {
    "collapsed": false
   },
   "outputs": [
    {
     "data": {
      "text/plain": [
       "0.07663"
      ]
     },
     "execution_count": 5,
     "metadata": {},
     "output_type": "execute_result"
    }
   ],
   "source": [
    "contador = 0\n",
    "for i in 1:N\n",
    "    Cart, conjunto = carta(baraja)\n",
    "    while Cart != \"AsC\" && Cart != \"AsD\" && Cart != \"AsE\" && Cart != \"AsT\" \n",
    "        Cart, conjunto = carta(conjunto)\n",
    "    end\n",
    "    Cart2, conjunto = carta(conjunto)\n",
    "    if Cart2 == \"AsC\" || Cart2 == \"AsE\" || Cart2 == \"AsD\" || Cart2 == \"AsT\" \n",
    "        contador +=1\n",
    "    end\n",
    "end\n",
    "contador/N"
   ]
  },
  {
   "cell_type": "code",
   "execution_count": null,
   "metadata": {
    "collapsed": true
   },
   "outputs": [],
   "source": []
  }
 ],
 "metadata": {
  "kernelspec": {
   "display_name": "Julia 0.4.5",
   "language": "julia",
   "name": "julia-0.4"
  },
  "language_info": {
   "file_extension": ".jl",
   "mimetype": "application/julia",
   "name": "julia",
   "version": "0.4.5"
  }
 },
 "nbformat": 4,
 "nbformat_minor": 0
}
